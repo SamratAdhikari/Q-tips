{
  "nbformat": 4,
  "nbformat_minor": 0,
  "metadata": {
    "colab": {
      "provenance": [],
      "gpuType": "T4"
    },
    "kernelspec": {
      "name": "python3",
      "display_name": "Python 3"
    },
    "language_info": {
      "name": "python"
    },
    "accelerator": "GPU"
  },
  "cells": [
    {
      "cell_type": "code",
      "execution_count": 1,
      "metadata": {
        "id": "19DH9AZUIP7c",
        "colab": {
          "base_uri": "https://localhost:8080/"
        },
        "outputId": "ad8620bf-b8e3-4aac-a5b8-809b798b9bb3"
      },
      "outputs": [
        {
          "output_type": "stream",
          "name": "stdout",
          "text": [
            "  Preparing metadata (setup.py) ... \u001b[?25l\u001b[?25hdone\n",
            "  Building wheel for flashtext (setup.py) ... \u001b[?25l\u001b[?25hdone\n",
            "  Preparing metadata (setup.py) ... \u001b[?25l\u001b[?25hdone\n",
            "\u001b[2K   \u001b[90m━━━━━━━━━━━━━━━━━━━━━━━━━━━━━━━━━━━━━━━━\u001b[0m \u001b[32m235.5/235.5 kB\u001b[0m \u001b[31m4.9 MB/s\u001b[0m eta \u001b[36m0:00:00\u001b[0m\n",
            "\u001b[?25h  Building wheel for pke (setup.py) ... \u001b[?25l\u001b[?25hdone\n"
          ]
        }
      ],
      "source": [
        "!pip install --quiet flashtext\n",
        "!pip install --quiet git+https://github.com/boudinfl/pke.git"
      ]
    },
    {
      "cell_type": "code",
      "source": [
        "import textwrap\n",
        "import json\n",
        "import requests\n",
        "import string\n",
        "import re\n",
        "import nltk\n",
        "import string\n",
        "import itertools\n",
        "\n",
        "import pke\n",
        "from nltk.corpus import stopwords\n",
        "from nltk.corpus import wordnet\n",
        "import traceback\n",
        "from nltk.tokenize import sent_tokenize\n",
        "from flashtext import KeywordProcessor\n",
        "from pprint import pprint\n",
        "\n",
        "from IPython.core.display import display, HTML\n",
        "import xml.etree.ElementTree as et\n",
        "import random\n",
        "from xml.dom import minidom\n",
        "\n",
        "nltk.download('stopwords')\n",
        "nltk.download('wordnet')\n",
        "nltk.download('punkt')"
      ],
      "metadata": {
        "colab": {
          "base_uri": "https://localhost:8080/"
        },
        "id": "U-IY1gxUJbAd",
        "outputId": "8c3a8a68-d2eb-4f76-8a9d-d0c48a2ddeb1"
      },
      "execution_count": 2,
      "outputs": [
        {
          "output_type": "stream",
          "name": "stderr",
          "text": [
            "[nltk_data] Downloading package stopwords to /root/nltk_data...\n",
            "[nltk_data]   Unzipping corpora/stopwords.zip.\n",
            "[nltk_data] Downloading package wordnet to /root/nltk_data...\n",
            "[nltk_data] Downloading package punkt to /root/nltk_data...\n",
            "[nltk_data]   Unzipping tokenizers/punkt.zip.\n"
          ]
        },
        {
          "output_type": "execute_result",
          "data": {
            "text/plain": [
              "True"
            ]
          },
          "metadata": {},
          "execution_count": 2
        }
      ]
    },
    {
      "cell_type": "code",
      "source": [
        "text = \"\"\"There is a lot of volcanic activity at divergent plate boundaries in the oceans. For example, many undersea volcanoes are found along the Mid-Atlantic Ridge. This is a divergent plate boundary that runs north-south through the middle of the Atlantic Ocean. As tectonic plates pull away from each other at a divergent plate boundary, they create deep fissures, or cracks, in the crust. Molten rock, called magma, erupts through these cracks onto Earth’s surface. At the surface, the molten rock is called lava. It cools and hardens, forming rock. Divergent plate boundaries also occur in the continental crust. Volcanoes form at these boundaries, but less often than in ocean crust. That’s because continental crust is thicker than oceanic crust. This makes it more difficult for molten rock to push up through the crust. Many volcanoes form along convergent plate boundaries where one tectonic plate is pulled down beneath another at a subduction zone. The leading edge of the plate melts as it is pulled into the mantle, forming magma that erupts as volcanoes. When a line of volcanoes forms along a subduction zone, they make up a volcanic arc. The edges of the Pacific plate are long subduction zones lined with volcanoes. This is why the Pacific rim is called the “Pacific Ring of Fire.”\"\"\"\n",
        "\n",
        "wrapper = textwrap.TextWrapper(width=150)\n",
        "word_list = wrapper.wrap(text=text)\n",
        "for element in word_list:\n",
        "  print(element)"
      ],
      "metadata": {
        "colab": {
          "base_uri": "https://localhost:8080/"
        },
        "id": "9vLezkDmJnxu",
        "outputId": "0e21bd67-c1b1-4c71-d885-7217c0d1508a"
      },
      "execution_count": 3,
      "outputs": [
        {
          "output_type": "stream",
          "name": "stdout",
          "text": [
            "There is a lot of volcanic activity at divergent plate boundaries in the oceans. For example, many undersea volcanoes are found along the Mid-Atlantic\n",
            "Ridge. This is a divergent plate boundary that runs north-south through the middle of the Atlantic Ocean. As tectonic plates pull away from each other\n",
            "at a divergent plate boundary, they create deep fissures, or cracks, in the crust. Molten rock, called magma, erupts through these cracks onto Earth’s\n",
            "surface. At the surface, the molten rock is called lava. It cools and hardens, forming rock. Divergent plate boundaries also occur in the continental\n",
            "crust. Volcanoes form at these boundaries, but less often than in ocean crust. That’s because continental crust is thicker than oceanic crust. This\n",
            "makes it more difficult for molten rock to push up through the crust. Many volcanoes form along convergent plate boundaries where one tectonic plate\n",
            "is pulled down beneath another at a subduction zone. The leading edge of the plate melts as it is pulled into the mantle, forming magma that erupts as\n",
            "volcanoes. When a line of volcanoes forms along a subduction zone, they make up a volcanic arc. The edges of the Pacific plate are long subduction\n",
            "zones lined with volcanoes. This is why the Pacific rim is called the “Pacific Ring of Fire.”\n"
          ]
        }
      ]
    },
    {
      "cell_type": "code",
      "source": [
        "def tokenize_sentences(text):\n",
        "    sentences = sent_tokenize(text)\n",
        "    sentences = [sentence.strip() for sentence in sentences if len(sentence) > 20]\n",
        "    return sentences\n",
        "\n",
        "sentences = tokenize_sentences(text)\n",
        "print (sentences)"
      ],
      "metadata": {
        "colab": {
          "base_uri": "https://localhost:8080/"
        },
        "id": "RCfRvA6zJ27-",
        "outputId": "9eeecd10-cfa8-4d82-c540-dc219b1d9359"
      },
      "execution_count": 4,
      "outputs": [
        {
          "output_type": "stream",
          "name": "stdout",
          "text": [
            "['There is a lot of volcanic activity at divergent plate boundaries in the oceans.', 'For example, many undersea volcanoes are found along the Mid-Atlantic Ridge.', 'This is a divergent plate boundary that runs north-south through the middle of the Atlantic Ocean.', 'As tectonic plates pull away from each other at a divergent plate boundary, they create deep fissures, or cracks, in the crust.', 'Molten rock, called magma, erupts through these cracks onto Earth’s surface.', 'At the surface, the molten rock is called lava.', 'It cools and hardens, forming rock.', 'Divergent plate boundaries also occur in the continental crust.', 'Volcanoes form at these boundaries, but less often than in ocean crust.', 'That’s because continental crust is thicker than oceanic crust.', 'This makes it more difficult for molten rock to push up through the crust.', 'Many volcanoes form along convergent plate boundaries where one tectonic plate is pulled down beneath another at a subduction zone.', 'The leading edge of the plate melts as it is pulled into the mantle, forming magma that erupts as volcanoes.', 'When a line of volcanoes forms along a subduction zone, they make up a volcanic arc.', 'The edges of the Pacific plate are long subduction zones lined with volcanoes.', 'This is why the Pacific rim is called the “Pacific Ring of Fire.”']\n"
          ]
        }
      ]
    },
    {
      "cell_type": "code",
      "source": [
        "def get_noun_adj_verb(text):\n",
        "    out=[]\n",
        "    try:\n",
        "        extractor = pke.unsupervised.MultipartiteRank()\n",
        "        extractor.load_document(input=text, language='en')\n",
        "\n",
        "        #    not contain punctuation marks or stopwords as candidates.\n",
        "        pos = {'VERB', 'ADJ', 'NOUN'}\n",
        "        stoplist = list(string.punctuation)\n",
        "        stoplist += ['-lrb-', '-rrb-', '-lcb-', '-rcb-', '-lsb-', '-rsb-']\n",
        "        stoplist += stopwords.words('english')\n",
        "\n",
        "        # extractor.candidate_selection(pos=pos, stoplist=stoplist)\n",
        "        extractor.candidate_selection(pos=pos)\n",
        "\n",
        "        # 4. build the Multipartite graph and rank candidates using random walk,\n",
        "        #    alpha controls the weight adjustment mechanism, see TopicRank for\n",
        "        #    threshold/method parameters.\n",
        "        extractor.candidate_weighting(alpha=1.1,\n",
        "                                      threshold=0.75,\n",
        "                                      method='average')\n",
        "        keyphrases = extractor.get_n_best(n=30)\n",
        "\n",
        "\n",
        "        for val in keyphrases:\n",
        "            out.append(val[0])\n",
        "    except:\n",
        "        out = []\n",
        "        traceback.print_exc()\n",
        "\n",
        "    return out\n",
        "\n",
        "noun_verbs_adj = get_noun_adj_verb(text)\n",
        "print (\"keywords:\", noun_verbs_adj)"
      ],
      "metadata": {
        "colab": {
          "base_uri": "https://localhost:8080/"
        },
        "id": "obqU0UqzJ_v0",
        "outputId": "8eba5d48-2761-4db7-bfa8-6a7550a9b914"
      },
      "execution_count": 5,
      "outputs": [
        {
          "output_type": "stream",
          "name": "stdout",
          "text": [
            "keywords: ['divergent plate boundaries', 'crust', 'molten rock', 'tectonic plates pull', 'volcanoes form', 'oceans', 'called magma', 'forming rock', 'erupts', 'cracks', 'volcanic activity', 'subduction zone', 'surface', 'continental crust', 'ocean crust', 'makes', 'pulled', 'leading edge', 'hardens', 'example', 'runs north-south', 'cools', 'create deep fissures', 'volcanoes', 'occur', 'lot', 'called lava', 'middle', 'found', 'push']\n"
          ]
        }
      ]
    },
    {
      "cell_type": "code",
      "source": [
        "def get_sentences_for_keyword(keywords, sentences):\n",
        "    keyword_processor = KeywordProcessor()\n",
        "    keyword_sentences = {}\n",
        "\n",
        "    for word in keywords:\n",
        "        keyword_sentences[word] = []\n",
        "        keyword_processor.add_keyword(word)\n",
        "\n",
        "    for sentence in sentences:\n",
        "        keywords_found = keyword_processor.extract_keywords(sentence)\n",
        "        for key in keywords_found:\n",
        "            keyword_sentences[key].append(sentence)\n",
        "\n",
        "    for key in keyword_sentences.keys():\n",
        "        values = keyword_sentences[key]\n",
        "        values = sorted(values, key=len, reverse=True)\n",
        "        keyword_sentences[key] = values\n",
        "\n",
        "    return keyword_sentences\n",
        "\n",
        "keyword_sentence_mapping_noun_verbs_adj = get_sentences_for_keyword(noun_verbs_adj, sentences)\n",
        "pprint (keyword_sentence_mapping_noun_verbs_adj)"
      ],
      "metadata": {
        "colab": {
          "base_uri": "https://localhost:8080/"
        },
        "id": "T6TftOMgKsNG",
        "outputId": "cf695b4c-9f0d-4c30-9186-42fbb831fc58"
      },
      "execution_count": 6,
      "outputs": [
        {
          "output_type": "stream",
          "name": "stdout",
          "text": [
            "{'called lava': ['At the surface, the molten rock is called lava.'],\n",
            " 'called magma': ['Molten rock, called magma, erupts through these cracks onto '\n",
            "                  'Earth’s surface.'],\n",
            " 'continental crust': ['Divergent plate boundaries also occur in the '\n",
            "                       'continental crust.',\n",
            "                       'That’s because continental crust is thicker than '\n",
            "                       'oceanic crust.'],\n",
            " 'cools': ['It cools and hardens, forming rock.'],\n",
            " 'cracks': ['As tectonic plates pull away from each other at a divergent plate '\n",
            "            'boundary, they create deep fissures, or cracks, in the crust.',\n",
            "            'Molten rock, called magma, erupts through these cracks onto '\n",
            "            'Earth’s surface.'],\n",
            " 'create deep fissures': ['As tectonic plates pull away from each other at a '\n",
            "                          'divergent plate boundary, they create deep '\n",
            "                          'fissures, or cracks, in the crust.'],\n",
            " 'crust': ['As tectonic plates pull away from each other at a divergent plate '\n",
            "           'boundary, they create deep fissures, or cracks, in the crust.',\n",
            "           'This makes it more difficult for molten rock to push up through '\n",
            "           'the crust.',\n",
            "           'That’s because continental crust is thicker than oceanic crust.'],\n",
            " 'divergent plate boundaries': ['There is a lot of volcanic activity at '\n",
            "                                'divergent plate boundaries in the oceans.',\n",
            "                                'Divergent plate boundaries also occur in the '\n",
            "                                'continental crust.'],\n",
            " 'erupts': ['The leading edge of the plate melts as it is pulled into the '\n",
            "            'mantle, forming magma that erupts as volcanoes.',\n",
            "            'Molten rock, called magma, erupts through these cracks onto '\n",
            "            'Earth’s surface.'],\n",
            " 'example': ['For example, many undersea volcanoes are found along the '\n",
            "             'Mid-Atlantic Ridge.'],\n",
            " 'forming rock': ['It cools and hardens, forming rock.'],\n",
            " 'found': ['For example, many undersea volcanoes are found along the '\n",
            "           'Mid-Atlantic Ridge.'],\n",
            " 'hardens': ['It cools and hardens, forming rock.'],\n",
            " 'leading edge': ['The leading edge of the plate melts as it is pulled into '\n",
            "                  'the mantle, forming magma that erupts as volcanoes.'],\n",
            " 'lot': ['There is a lot of volcanic activity at divergent plate boundaries in '\n",
            "         'the oceans.'],\n",
            " 'makes': ['This makes it more difficult for molten rock to push up through '\n",
            "           'the crust.'],\n",
            " 'middle': ['This is a divergent plate boundary that runs north-south through '\n",
            "            'the middle of the Atlantic Ocean.'],\n",
            " 'molten rock': ['Molten rock, called magma, erupts through these cracks onto '\n",
            "                 'Earth’s surface.',\n",
            "                 'This makes it more difficult for molten rock to push up '\n",
            "                 'through the crust.',\n",
            "                 'At the surface, the molten rock is called lava.'],\n",
            " 'occur': ['Divergent plate boundaries also occur in the continental crust.'],\n",
            " 'ocean crust': ['Volcanoes form at these boundaries, but less often than in '\n",
            "                 'ocean crust.'],\n",
            " 'oceans': ['There is a lot of volcanic activity at divergent plate boundaries '\n",
            "            'in the oceans.'],\n",
            " 'pulled': ['Many volcanoes form along convergent plate boundaries where one '\n",
            "            'tectonic plate is pulled down beneath another at a subduction '\n",
            "            'zone.',\n",
            "            'The leading edge of the plate melts as it is pulled into the '\n",
            "            'mantle, forming magma that erupts as volcanoes.'],\n",
            " 'push': ['This makes it more difficult for molten rock to push up through the '\n",
            "          'crust.'],\n",
            " 'runs north-south': ['This is a divergent plate boundary that runs '\n",
            "                      'north-south through the middle of the Atlantic Ocean.'],\n",
            " 'subduction zone': ['Many volcanoes form along convergent plate boundaries '\n",
            "                     'where one tectonic plate is pulled down beneath another '\n",
            "                     'at a subduction zone.',\n",
            "                     'When a line of volcanoes forms along a subduction zone, '\n",
            "                     'they make up a volcanic arc.'],\n",
            " 'surface': ['Molten rock, called magma, erupts through these cracks onto '\n",
            "             'Earth’s surface.',\n",
            "             'At the surface, the molten rock is called lava.'],\n",
            " 'tectonic plates pull': ['As tectonic plates pull away from each other at a '\n",
            "                          'divergent plate boundary, they create deep '\n",
            "                          'fissures, or cracks, in the crust.'],\n",
            " 'volcanic activity': ['There is a lot of volcanic activity at divergent plate '\n",
            "                       'boundaries in the oceans.'],\n",
            " 'volcanoes': ['The leading edge of the plate melts as it is pulled into the '\n",
            "               'mantle, forming magma that erupts as volcanoes.',\n",
            "               'When a line of volcanoes forms along a subduction zone, they '\n",
            "               'make up a volcanic arc.',\n",
            "               'The edges of the Pacific plate are long subduction zones lined '\n",
            "               'with volcanoes.',\n",
            "               'For example, many undersea volcanoes are found along the '\n",
            "               'Mid-Atlantic Ridge.'],\n",
            " 'volcanoes form': ['Many volcanoes form along convergent plate boundaries '\n",
            "                    'where one tectonic plate is pulled down beneath another '\n",
            "                    'at a subduction zone.',\n",
            "                    'Volcanoes form at these boundaries, but less often than '\n",
            "                    'in ocean crust.']}\n"
          ]
        }
      ]
    },
    {
      "cell_type": "code",
      "source": [
        "def get_fill_in_the_blanks(sentence_mapping):\n",
        "\n",
        "    out={\"title\":\"Fill in the blanks for these sentences with matching words at the top\"}\n",
        "    blank_sentences = []\n",
        "    processed = []\n",
        "    keys=[]\n",
        "\n",
        "    for key in sentence_mapping:\n",
        "\n",
        "        if len(sentence_mapping[key])>0:\n",
        "            sent = sentence_mapping[key][0]\n",
        "            # Compile a regular expression pattern into a regular expression object, which can be used for matching and other methods\n",
        "            insensitive_sent = re.compile(re.escape(key), re.IGNORECASE)\n",
        "            no_of_replacements =  len(re.findall(re.escape(key), sent, re.IGNORECASE))\n",
        "            line = insensitive_sent.sub(' _________ ', sent)\n",
        "\n",
        "            if (sentence_mapping[key][0] not in processed) and no_of_replacements<2:\n",
        "                blank_sentences.append(line)\n",
        "                processed.append(sentence_mapping[key][0])\n",
        "                keys.append(key)\n",
        "\n",
        "    out[\"sentences\"] = blank_sentences[:10]\n",
        "    out[\"keys\"] = keys[:10]\n",
        "\n",
        "    return out\n",
        "\n",
        "\n",
        "fill_in_the_blanks = get_fill_in_the_blanks(keyword_sentence_mapping_noun_verbs_adj)\n",
        "pprint(fill_in_the_blanks)"
      ],
      "metadata": {
        "colab": {
          "base_uri": "https://localhost:8080/"
        },
        "id": "N0czXLajLJ9h",
        "outputId": "75a102d2-c9e4-4469-a669-db3b87447efb"
      },
      "execution_count": 7,
      "outputs": [
        {
          "output_type": "stream",
          "name": "stdout",
          "text": [
            "{'keys': ['divergent plate boundaries',\n",
            "          'crust',\n",
            "          'molten rock',\n",
            "          'volcanoes form',\n",
            "          'forming rock',\n",
            "          'erupts',\n",
            "          'continental crust',\n",
            "          'ocean crust',\n",
            "          'makes',\n",
            "          'example'],\n",
            " 'sentences': ['There is a lot of volcanic activity at  _________  in the '\n",
            "               'oceans.',\n",
            "               'As tectonic plates pull away from each other at a divergent '\n",
            "               'plate boundary, they create deep fissures, or cracks, in the  '\n",
            "               '_________ .',\n",
            "               ' _________ , called magma, erupts through these cracks onto '\n",
            "               'Earth’s surface.',\n",
            "               'Many  _________  along convergent plate boundaries where one '\n",
            "               'tectonic plate is pulled down beneath another at a subduction '\n",
            "               'zone.',\n",
            "               'It cools and hardens,  _________ .',\n",
            "               'The leading edge of the plate melts as it is pulled into the '\n",
            "               'mantle, forming magma that  _________  as volcanoes.',\n",
            "               'Divergent plate boundaries also occur in the  _________ .',\n",
            "               'Volcanoes form at these boundaries, but less often than in  '\n",
            "               '_________ .',\n",
            "               'This  _________  it more difficult for molten rock to push up '\n",
            "               'through the crust.',\n",
            "               'For  _________ , many undersea volcanoes are found along the '\n",
            "               'Mid-Atlantic Ridge.'],\n",
            " 'title': 'Fill in the blanks for these sentences with matching words at the '\n",
            "          'top'}\n"
          ]
        }
      ]
    },
    {
      "cell_type": "code",
      "source": [
        "root = et.Element(\"div\")\n",
        "\n",
        "heading = et.Element(\"h2\")\n",
        "heading.text = fill_in_the_blanks['title']\n",
        "\n",
        "keywords = et.Element(\"ul\")\n",
        "keywords.set('style', 'color:yellow;')\n",
        "\n",
        "all_keys = fill_in_the_blanks['keys']\n",
        "random.shuffle(all_keys)\n",
        "\n",
        "for blank in all_keys:\n",
        "  child=et.Element(\"li\")\n",
        "  child.text = blank\n",
        "  keywords.append(child)\n",
        "\n",
        "sentences = et.Element(\"ol\")\n",
        "sentences.set('style', 'color:white;')\n",
        "\n",
        "for sentence in fill_in_the_blanks['sentences']:\n",
        "  child=et.Element(\"li\")\n",
        "  child.text = sentence\n",
        "  sentences.append(child)\n",
        "  sentences.append(et.Element(\"br\"))\n",
        "\n",
        "heading_content = et.Element(\"h4\")\n",
        "\n",
        "root.append(heading)\n",
        "heading_content.append(keywords)\n",
        "heading_content.append(sentences)\n",
        "root.append(heading_content)\n",
        "\n",
        "xmlstr = et.tostring(root)\n",
        "xmlstr = xmlstr.decode(\"utf-8\")\n",
        "display(HTML(xmlstr))"
      ],
      "metadata": {
        "colab": {
          "base_uri": "https://localhost:8080/",
          "height": 628
        },
        "id": "5XI8CzaiLM3t",
        "outputId": "ef61c67e-1a28-49f2-c62a-7ffd10d0c328"
      },
      "execution_count": 10,
      "outputs": [
        {
          "output_type": "display_data",
          "data": {
            "text/plain": [
              "<IPython.core.display.HTML object>"
            ],
            "text/html": [
              "<div><h2>Fill in the blanks for these sentences with matching words at the top</h2><h4><ul style=\"color:yellow;\"><li>erupts</li><li>example</li><li>forming rock</li><li>ocean crust</li><li>makes</li><li>continental crust</li><li>crust</li><li>volcanoes form</li><li>molten rock</li><li>divergent plate boundaries</li></ul><ol style=\"color:white;\"><li>There is a lot of volcanic activity at  _________  in the oceans.</li><br /><li>As tectonic plates pull away from each other at a divergent plate boundary, they create deep fissures, or cracks, in the  _________ .</li><br /><li> _________ , called magma, erupts through these cracks onto Earth&#8217;s surface.</li><br /><li>Many  _________  along convergent plate boundaries where one tectonic plate is pulled down beneath another at a subduction zone.</li><br /><li>It cools and hardens,  _________ .</li><br /><li>The leading edge of the plate melts as it is pulled into the mantle, forming magma that  _________  as volcanoes.</li><br /><li>Divergent plate boundaries also occur in the  _________ .</li><br /><li>Volcanoes form at these boundaries, but less often than in  _________ .</li><br /><li>This  _________  it more difficult for molten rock to push up through the crust.</li><br /><li>For  _________ , many undersea volcanoes are found along the Mid-Atlantic Ridge.</li><br /></ol></h4></div>"
            ]
          },
          "metadata": {}
        }
      ]
    },
    {
      "cell_type": "code",
      "source": [
        "prettyxmlstr = minidom.parseString(et.tostring(root)).toprettyxml(indent=\"   \")\n",
        "print(prettyxmlstr)"
      ],
      "metadata": {
        "colab": {
          "base_uri": "https://localhost:8080/"
        },
        "id": "-0e86jLwMJm6",
        "outputId": "fb4084fb-e361-4938-a2e5-0e36c240202b"
      },
      "execution_count": 11,
      "outputs": [
        {
          "output_type": "stream",
          "name": "stdout",
          "text": [
            "<?xml version=\"1.0\" ?>\n",
            "<div>\n",
            "   <h2>Fill in the blanks for these sentences with matching words at the top</h2>\n",
            "   <h4>\n",
            "      <ul style=\"color:yellow;\">\n",
            "         <li>erupts</li>\n",
            "         <li>example</li>\n",
            "         <li>forming rock</li>\n",
            "         <li>ocean crust</li>\n",
            "         <li>makes</li>\n",
            "         <li>continental crust</li>\n",
            "         <li>crust</li>\n",
            "         <li>volcanoes form</li>\n",
            "         <li>molten rock</li>\n",
            "         <li>divergent plate boundaries</li>\n",
            "      </ul>\n",
            "      <ol style=\"color:white;\">\n",
            "         <li>There is a lot of volcanic activity at  _________  in the oceans.</li>\n",
            "         <br/>\n",
            "         <li>As tectonic plates pull away from each other at a divergent plate boundary, they create deep fissures, or cracks, in the  _________ .</li>\n",
            "         <br/>\n",
            "         <li> _________ , called magma, erupts through these cracks onto Earth’s surface.</li>\n",
            "         <br/>\n",
            "         <li>Many  _________  along convergent plate boundaries where one tectonic plate is pulled down beneath another at a subduction zone.</li>\n",
            "         <br/>\n",
            "         <li>It cools and hardens,  _________ .</li>\n",
            "         <br/>\n",
            "         <li>The leading edge of the plate melts as it is pulled into the mantle, forming magma that  _________  as volcanoes.</li>\n",
            "         <br/>\n",
            "         <li>Divergent plate boundaries also occur in the  _________ .</li>\n",
            "         <br/>\n",
            "         <li>Volcanoes form at these boundaries, but less often than in  _________ .</li>\n",
            "         <br/>\n",
            "         <li>This  _________  it more difficult for molten rock to push up through the crust.</li>\n",
            "         <br/>\n",
            "         <li>For  _________ , many undersea volcanoes are found along the Mid-Atlantic Ridge.</li>\n",
            "         <br/>\n",
            "      </ol>\n",
            "   </h4>\n",
            "</div>\n",
            "\n"
          ]
        }
      ]
    }
  ]
}